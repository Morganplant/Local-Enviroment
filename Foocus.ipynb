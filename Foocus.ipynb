{
  "nbformat": 4,
  "nbformat_minor": 0,
  "metadata": {
    "colab": {
      "provenance": [],
      "authorship_tag": "ABX9TyNEhtkrl8qrGK8jkk3zWpAz",
      "include_colab_link": true
    },
    "kernelspec": {
      "name": "python3",
      "display_name": "Python 3"
    },
    "language_info": {
      "name": "python"
    }
  },
  "cells": [
    {
      "cell_type": "markdown",
      "metadata": {
        "id": "view-in-github",
        "colab_type": "text"
      },
      "source": [
        "<a href=\"https://colab.research.google.com/github/Morganplant/Local-Enviroment/blob/master/Foocus.ipynb\" target=\"_parent\"><img src=\"https://colab.research.google.com/assets/colab-badge.svg\" alt=\"Open In Colab\"/></a>"
      ]
    },
    {
      "cell_type": "code",
      "execution_count": 1,
      "metadata": {
        "colab": {
          "base_uri": "https://localhost:8080/"
        },
        "id": "p6X9DqL5SI3z",
        "outputId": "32cd78b8-d362-43f8-8242-f51c053b8fea"
      },
      "outputs": [
        {
          "output_type": "stream",
          "name": "stdout",
          "text": [
            "/content\n",
            "Cloning into 'Fooocus-MRE'...\n",
            "remote: Enumerating objects: 6589, done.\u001b[K\n",
            "remote: Counting objects: 100% (96/96), done.\u001b[K\n",
            "remote: Compressing objects: 100% (69/69), done.\u001b[K\n",
            "remote: Total 6589 (delta 45), reused 52 (delta 26), pack-reused 6493\u001b[K\n",
            "Receiving objects: 100% (6589/6589), 32.81 MiB | 27.47 MiB/s, done.\n",
            "Resolving deltas: 100% (3890/3890), done.\n",
            "/content/Fooocus-MRE\n",
            "Update failed.\n",
            "No module named 'pygit2'\n",
            "Update succeeded.\n",
            "Traceback (most recent call last):\n",
            "  File \"/content/Fooocus-MRE/entry_with_update.py\", line 46, in <module>\n",
            "    from launch import *\n",
            "  File \"/content/Fooocus-MRE/launch.py\", line 9, in <module>\n",
            "    from modules.launch_util import is_installed, run, python, \\\n",
            "  File \"/content/Fooocus-MRE/modules/launch_util.py\", line 9, in <module>\n",
            "    import pygit2\n",
            "ModuleNotFoundError: No module named 'pygit2'\n"
          ]
        }
      ],
      "source": [
        "%cd /content\n",
        "!git clone https://github.com/MoonRide303/Fooocus-MRE.git\n",
        "%cd Fooocus-MRE\n",
        "!cp settings-no-refiner.json settings.json\n",
        "!python entry_with_update.py --share"
      ]
    }
  ]
}